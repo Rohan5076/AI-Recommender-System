{
  "nbformat": 4,
  "nbformat_minor": 0,
  "metadata": {
    "colab": {
      "name": "Recommender system Matrix Factorization.ipynb",
      "provenance": []
    },
    "kernelspec": {
      "name": "python3",
      "display_name": "Python 3"
    },
    "language_info": {
      "name": "python"
    }
  },
  "cells": [
    {
      "cell_type": "code",
      "execution_count": null,
      "metadata": {
        "colab": {
          "base_uri": "https://localhost:8080/"
        },
        "id": "VygVSCOzvvF9",
        "outputId": "f56916ee-df0c-4482-c234-2b291b17d349"
      },
      "outputs": [
        {
          "output_type": "stream",
          "name": "stdout",
          "text": [
            "Looking in indexes: https://pypi.org/simple, https://us-python.pkg.dev/colab-wheels/public/simple/\n",
            "Collecting matrix_factorization\n",
            "  Downloading matrix_factorization-1.3.tar.gz (12 kB)\n",
            "Requirement already satisfied: numba>=0.49.1 in /usr/local/lib/python3.7/dist-packages (from matrix_factorization) (0.56.0)\n",
            "Requirement already satisfied: numpy>=1.18.5 in /usr/local/lib/python3.7/dist-packages (from matrix_factorization) (1.21.6)\n",
            "Requirement already satisfied: pandas>=1.0.4 in /usr/local/lib/python3.7/dist-packages (from matrix_factorization) (1.3.5)\n",
            "Requirement already satisfied: scikit-learn>=0.23.1 in /usr/local/lib/python3.7/dist-packages (from matrix_factorization) (1.0.2)\n",
            "Requirement already satisfied: scipy>=1.4.1 in /usr/local/lib/python3.7/dist-packages (from matrix_factorization) (1.7.3)\n",
            "Requirement already satisfied: setuptools in /usr/local/lib/python3.7/dist-packages (from numba>=0.49.1->matrix_factorization) (57.4.0)\n",
            "Requirement already satisfied: importlib-metadata in /usr/local/lib/python3.7/dist-packages (from numba>=0.49.1->matrix_factorization) (4.12.0)\n",
            "Requirement already satisfied: llvmlite<0.40,>=0.39.0dev0 in /usr/local/lib/python3.7/dist-packages (from numba>=0.49.1->matrix_factorization) (0.39.0)\n",
            "Requirement already satisfied: python-dateutil>=2.7.3 in /usr/local/lib/python3.7/dist-packages (from pandas>=1.0.4->matrix_factorization) (2.8.2)\n",
            "Requirement already satisfied: pytz>=2017.3 in /usr/local/lib/python3.7/dist-packages (from pandas>=1.0.4->matrix_factorization) (2022.2.1)\n",
            "Requirement already satisfied: six>=1.5 in /usr/local/lib/python3.7/dist-packages (from python-dateutil>=2.7.3->pandas>=1.0.4->matrix_factorization) (1.15.0)\n",
            "Requirement already satisfied: joblib>=0.11 in /usr/local/lib/python3.7/dist-packages (from scikit-learn>=0.23.1->matrix_factorization) (1.1.0)\n",
            "Requirement already satisfied: threadpoolctl>=2.0.0 in /usr/local/lib/python3.7/dist-packages (from scikit-learn>=0.23.1->matrix_factorization) (3.1.0)\n",
            "Requirement already satisfied: zipp>=0.5 in /usr/local/lib/python3.7/dist-packages (from importlib-metadata->numba>=0.49.1->matrix_factorization) (3.8.1)\n",
            "Requirement already satisfied: typing-extensions>=3.6.4 in /usr/local/lib/python3.7/dist-packages (from importlib-metadata->numba>=0.49.1->matrix_factorization) (4.1.1)\n",
            "Building wheels for collected packages: matrix-factorization\n",
            "  Building wheel for matrix-factorization (setup.py) ... \u001b[?25l\u001b[?25hdone\n",
            "  Created wheel for matrix-factorization: filename=matrix_factorization-1.3-py3-none-any.whl size=16467 sha256=3899b04c4ad7f54fa8a479ae9c40543e1adf03fc12f0945d3fe572768391b769\n",
            "  Stored in directory: /root/.cache/pip/wheels/f6/34/7b/11dd792f060e9c2d7230855147d3bfadbd2b6bbcf5132dcbbc\n",
            "Successfully built matrix-factorization\n",
            "Installing collected packages: matrix-factorization\n",
            "Successfully installed matrix-factorization-1.3\n"
          ]
        }
      ],
      "source": [
        "!pip install matrix_factorization"
      ]
    },
    {
      "cell_type": "code",
      "source": [
        "from matrix_factorization import BaselineModel, KernelMF, train_update_test_split\n"
      ],
      "metadata": {
        "id": "BslYXg3Xv5D-"
      },
      "execution_count": null,
      "outputs": []
    },
    {
      "cell_type": "code",
      "source": [
        "from matrix_factorization import BaselineModel, KernelMF, train_update_test_split\n",
        "\n",
        "\n",
        "# Movie data found here https://grouplens.org/datasets/movielens/\n",
        "cols = [\"user_id\", \"item_id\", \"rating\", \"timestamp\"]\n",
        "movie_data = pd.read_csv(\n",
        "    \"../data/ml-100k/u.data\", names=cols, sep=\"\\t\", usecols=[0, 1, 2], engine=\"python\"\n",
        ")\n",
        "\n",
        "X = movie_data[[\"user_id\", \"item_id\"]]\n",
        "y = movie_data[\"rating\"]\n",
        "\n",
        "# Prepare data for online learning\n",
        "(\n",
        "    X_train_initial,\n",
        "    y_train_initial,\n",
        "    X_train_update,\n",
        "    y_train_update,\n",
        "    X_test_update,\n",
        "    y_test_update,\n",
        ") = train_update_test_split(movie_data, frac_new_users=0.2)\n",
        "\n",
        "# Initial training\n",
        "matrix_fact = KernelMF(n_epochs=20, n_factors=100, verbose=1, lr=0.001, reg=0.005)\n",
        "matrix_fact.fit(X_train_initial, y_train_initial)\n",
        "\n",
        "# Update model with new users\n",
        "matrix_fact.update_users(\n",
        "    X_train_update, y_train_update, lr=0.001, n_epochs=20, verbose=1\n",
        ")\n",
        "pred = matrix_fact.predict(X_test_update)\n",
        "rmse = mean_squared_error(y_test_update, pred, squared=False)\n",
        "print(f\"\\nTest RMSE: {rmse:.4f}\")\n",
        "\n",
        "# Get recommendations\n",
        "user = 200\n",
        "items_known = X_train_initial.query(\"user_id == @user\")[\"item_id\"]\n",
        "matrix_fact.recommend(user=user, items_known=items_known)"
      ],
      "metadata": {
        "id": "WL8cS6crv6Rd"
      },
      "execution_count": null,
      "outputs": []
    },
    {
      "cell_type": "code",
      "source": [
        "\n",
        "import pandas as pd\n",
        "from sklearn.metrics import mean_squared_error"
      ],
      "metadata": {
        "id": "tnGENrhlv6O4"
      },
      "execution_count": null,
      "outputs": []
    },
    {
      "cell_type": "code",
      "source": [
        "\n",
        "# Movie data found here https://grouplens.org/datasets/movielens/\n",
        "cols = [\"user_id\", \"item_id\", \"rating\", \"timestamp\"]\n",
        "movie_data = pd.read_csv(\n",
        "    \"u.data\", names=cols, sep=\"\\t\", usecols=[0, 1, 2], engine=\"python\"\n",
        ")\n"
      ],
      "metadata": {
        "id": "11I1pZ7Uv6MK"
      },
      "execution_count": null,
      "outputs": []
    },
    {
      "cell_type": "code",
      "source": [
        "X = movie_data[[\"user_id\", \"item_id\"]]\n",
        "y = movie_data[\"rating\"]\n",
        "\n",
        "# Prepare data for online learning\n",
        "(\n",
        "    X_train_initial,\n",
        "    y_train_initial,\n",
        "    X_train_update,\n",
        "    y_train_update,\n",
        "    X_test_update,\n",
        "    y_test_update,\n",
        ") = train_update_test_split(movie_data, frac_new_users=0.2)\n",
        "\n",
        "# Initial training\n",
        "matrix_fact = KernelMF(n_epochs=20, n_factors=100, verbose=1, lr=0.001, reg=0.005)\n",
        "matrix_fact.fit(X_train_initial, y_train_initial)"
      ],
      "metadata": {
        "colab": {
          "base_uri": "https://localhost:8080/"
        },
        "id": "RR4s0ESfv6Jg",
        "outputId": "48e3bb8b-d29c-4d8f-860d-e4ea58e9675d"
      },
      "execution_count": null,
      "outputs": [
        {
          "output_type": "stream",
          "name": "stdout",
          "text": [
            "Epoch  1 / 20  -  train_rmse: 1.0710719696114426\n",
            "Epoch  2 / 20  -  train_rmse: 1.0388908937052632\n",
            "Epoch  3 / 20  -  train_rmse: 1.0167542870002666\n",
            "Epoch  4 / 20  -  train_rmse: 1.0003776775856463\n",
            "Epoch  5 / 20  -  train_rmse: 0.9876639652275435\n",
            "Epoch  6 / 20  -  train_rmse: 0.9773915555464397\n",
            "Epoch  7 / 20  -  train_rmse: 0.9688345096429876\n",
            "Epoch  8 / 20  -  train_rmse: 0.9615118987094669\n",
            "Epoch  9 / 20  -  train_rmse: 0.9551038103909809\n",
            "Epoch  10 / 20  -  train_rmse: 0.949391703911433\n",
            "Epoch  11 / 20  -  train_rmse: 0.9442279526426094\n",
            "Epoch  12 / 20  -  train_rmse: 0.9394869470055355\n",
            "Epoch  13 / 20  -  train_rmse: 0.935089839676846\n",
            "Epoch  14 / 20  -  train_rmse: 0.9309734290975185\n",
            "Epoch  15 / 20  -  train_rmse: 0.9270897782696822\n",
            "Epoch  16 / 20  -  train_rmse: 0.9233941863029048\n",
            "Epoch  17 / 20  -  train_rmse: 0.9198571118202374\n",
            "Epoch  18 / 20  -  train_rmse: 0.9164520606728901\n",
            "Epoch  19 / 20  -  train_rmse: 0.9131603262386169\n",
            "Epoch  20 / 20  -  train_rmse: 0.9099615059290124\n"
          ]
        },
        {
          "output_type": "execute_result",
          "data": {
            "text/plain": [
              "KernelMF(gamma=0.01, lr=0.001, n_epochs=20, reg=0.005)"
            ]
          },
          "metadata": {},
          "execution_count": 5
        }
      ]
    },
    {
      "cell_type": "code",
      "source": [
        "# Update model with new users\n",
        "matrix_fact.update_users(\n",
        "    X_train_update, y_train_update, lr=0.001, n_epochs=20, verbose=1\n",
        ")\n"
      ],
      "metadata": {
        "colab": {
          "base_uri": "https://localhost:8080/"
        },
        "id": "ucgsa6rHv6Gn",
        "outputId": "ceed58a6-8cdf-41f5-dd09-6aa15d183c3a"
      },
      "execution_count": null,
      "outputs": [
        {
          "output_type": "stream",
          "name": "stdout",
          "text": [
            "Epoch  1 / 20  -  train_rmse: 1.0452472222995244\n",
            "Epoch  2 / 20  -  train_rmse: 1.0255381569474462\n",
            "Epoch  3 / 20  -  train_rmse: 1.0112229230466374\n",
            "Epoch  4 / 20  -  train_rmse: 1.0004921897199446\n",
            "Epoch  5 / 20  -  train_rmse: 0.9922123618806263\n",
            "Epoch  6 / 20  -  train_rmse: 0.9855649718935\n",
            "Epoch  7 / 20  -  train_rmse: 0.9800958506022472\n",
            "Epoch  8 / 20  -  train_rmse: 0.975463696144195\n",
            "Epoch  9 / 20  -  train_rmse: 0.9714670537513457\n",
            "Epoch  10 / 20  -  train_rmse: 0.967941011876979\n",
            "Epoch  11 / 20  -  train_rmse: 0.9647686612549374\n",
            "Epoch  12 / 20  -  train_rmse: 0.9618841435811949\n",
            "Epoch  13 / 20  -  train_rmse: 0.9592248253245992\n",
            "Epoch  14 / 20  -  train_rmse: 0.9567515715883871\n",
            "Epoch  15 / 20  -  train_rmse: 0.9544429759676758\n",
            "Epoch  16 / 20  -  train_rmse: 0.9522676340548277\n",
            "Epoch  17 / 20  -  train_rmse: 0.9502056274848235\n",
            "Epoch  18 / 20  -  train_rmse: 0.9482385434320477\n",
            "Epoch  19 / 20  -  train_rmse: 0.9463620710441312\n",
            "Epoch  20 / 20  -  train_rmse: 0.9445653700559834\n"
          ]
        }
      ]
    },
    {
      "cell_type": "code",
      "source": [
        "pred = matrix_fact.predict(X_test_update)\n",
        "rmse = mean_squared_error(y_test_update, pred, squared=False)\n",
        "print(f\"\\nTest RMSE: {rmse:.4f}\")\n"
      ],
      "metadata": {
        "colab": {
          "base_uri": "https://localhost:8080/"
        },
        "id": "mUK008Cev6DY",
        "outputId": "a848e4bd-34cf-4991-928d-e5b9d6dd517b"
      },
      "execution_count": null,
      "outputs": [
        {
          "output_type": "stream",
          "name": "stdout",
          "text": [
            "\n",
            "Test RMSE: 0.9666\n"
          ]
        }
      ]
    },
    {
      "cell_type": "code",
      "source": [
        "# Get recommendations\n",
        "user = 200\n",
        "items_known = X_train_initial.query(\"user_id == @user\")[\"item_id\"]\n",
        "matrix_fact.recommend(user=user, items_known=items_known)"
      ],
      "metadata": {
        "colab": {
          "base_uri": "https://localhost:8080/",
          "height": 363
        },
        "id": "xKpGJnuFv56u",
        "outputId": "60ba41d7-3afd-4c88-c3f0-71d124379471"
      },
      "execution_count": null,
      "outputs": [
        {
          "output_type": "execute_result",
          "data": {
            "text/plain": [
              "     user_id  item_id  rating_pred\n",
              "373      200       64     4.916006\n",
              "352      200      408     4.883642\n",
              "543      200      480     4.863938\n",
              "83       200      272     4.832690\n",
              "115      200      302     4.781739\n",
              "116      200      657     4.780704\n",
              "126      200      427     4.780661\n",
              "206      200      114     4.775367\n",
              "416      200       23     4.755515\n",
              "24       200      511     4.753465"
            ],
            "text/html": [
              "\n",
              "  <div id=\"df-8a946280-91f3-4505-ab05-af209252d8a4\">\n",
              "    <div class=\"colab-df-container\">\n",
              "      <div>\n",
              "<style scoped>\n",
              "    .dataframe tbody tr th:only-of-type {\n",
              "        vertical-align: middle;\n",
              "    }\n",
              "\n",
              "    .dataframe tbody tr th {\n",
              "        vertical-align: top;\n",
              "    }\n",
              "\n",
              "    .dataframe thead th {\n",
              "        text-align: right;\n",
              "    }\n",
              "</style>\n",
              "<table border=\"1\" class=\"dataframe\">\n",
              "  <thead>\n",
              "    <tr style=\"text-align: right;\">\n",
              "      <th></th>\n",
              "      <th>user_id</th>\n",
              "      <th>item_id</th>\n",
              "      <th>rating_pred</th>\n",
              "    </tr>\n",
              "  </thead>\n",
              "  <tbody>\n",
              "    <tr>\n",
              "      <th>373</th>\n",
              "      <td>200</td>\n",
              "      <td>64</td>\n",
              "      <td>4.916006</td>\n",
              "    </tr>\n",
              "    <tr>\n",
              "      <th>352</th>\n",
              "      <td>200</td>\n",
              "      <td>408</td>\n",
              "      <td>4.883642</td>\n",
              "    </tr>\n",
              "    <tr>\n",
              "      <th>543</th>\n",
              "      <td>200</td>\n",
              "      <td>480</td>\n",
              "      <td>4.863938</td>\n",
              "    </tr>\n",
              "    <tr>\n",
              "      <th>83</th>\n",
              "      <td>200</td>\n",
              "      <td>272</td>\n",
              "      <td>4.832690</td>\n",
              "    </tr>\n",
              "    <tr>\n",
              "      <th>115</th>\n",
              "      <td>200</td>\n",
              "      <td>302</td>\n",
              "      <td>4.781739</td>\n",
              "    </tr>\n",
              "    <tr>\n",
              "      <th>116</th>\n",
              "      <td>200</td>\n",
              "      <td>657</td>\n",
              "      <td>4.780704</td>\n",
              "    </tr>\n",
              "    <tr>\n",
              "      <th>126</th>\n",
              "      <td>200</td>\n",
              "      <td>427</td>\n",
              "      <td>4.780661</td>\n",
              "    </tr>\n",
              "    <tr>\n",
              "      <th>206</th>\n",
              "      <td>200</td>\n",
              "      <td>114</td>\n",
              "      <td>4.775367</td>\n",
              "    </tr>\n",
              "    <tr>\n",
              "      <th>416</th>\n",
              "      <td>200</td>\n",
              "      <td>23</td>\n",
              "      <td>4.755515</td>\n",
              "    </tr>\n",
              "    <tr>\n",
              "      <th>24</th>\n",
              "      <td>200</td>\n",
              "      <td>511</td>\n",
              "      <td>4.753465</td>\n",
              "    </tr>\n",
              "  </tbody>\n",
              "</table>\n",
              "</div>\n",
              "      <button class=\"colab-df-convert\" onclick=\"convertToInteractive('df-8a946280-91f3-4505-ab05-af209252d8a4')\"\n",
              "              title=\"Convert this dataframe to an interactive table.\"\n",
              "              style=\"display:none;\">\n",
              "        \n",
              "  <svg xmlns=\"http://www.w3.org/2000/svg\" height=\"24px\"viewBox=\"0 0 24 24\"\n",
              "       width=\"24px\">\n",
              "    <path d=\"M0 0h24v24H0V0z\" fill=\"none\"/>\n",
              "    <path d=\"M18.56 5.44l.94 2.06.94-2.06 2.06-.94-2.06-.94-.94-2.06-.94 2.06-2.06.94zm-11 1L8.5 8.5l.94-2.06 2.06-.94-2.06-.94L8.5 2.5l-.94 2.06-2.06.94zm10 10l.94 2.06.94-2.06 2.06-.94-2.06-.94-.94-2.06-.94 2.06-2.06.94z\"/><path d=\"M17.41 7.96l-1.37-1.37c-.4-.4-.92-.59-1.43-.59-.52 0-1.04.2-1.43.59L10.3 9.45l-7.72 7.72c-.78.78-.78 2.05 0 2.83L4 21.41c.39.39.9.59 1.41.59.51 0 1.02-.2 1.41-.59l7.78-7.78 2.81-2.81c.8-.78.8-2.07 0-2.86zM5.41 20L4 18.59l7.72-7.72 1.47 1.35L5.41 20z\"/>\n",
              "  </svg>\n",
              "      </button>\n",
              "      \n",
              "  <style>\n",
              "    .colab-df-container {\n",
              "      display:flex;\n",
              "      flex-wrap:wrap;\n",
              "      gap: 12px;\n",
              "    }\n",
              "\n",
              "    .colab-df-convert {\n",
              "      background-color: #E8F0FE;\n",
              "      border: none;\n",
              "      border-radius: 50%;\n",
              "      cursor: pointer;\n",
              "      display: none;\n",
              "      fill: #1967D2;\n",
              "      height: 32px;\n",
              "      padding: 0 0 0 0;\n",
              "      width: 32px;\n",
              "    }\n",
              "\n",
              "    .colab-df-convert:hover {\n",
              "      background-color: #E2EBFA;\n",
              "      box-shadow: 0px 1px 2px rgba(60, 64, 67, 0.3), 0px 1px 3px 1px rgba(60, 64, 67, 0.15);\n",
              "      fill: #174EA6;\n",
              "    }\n",
              "\n",
              "    [theme=dark] .colab-df-convert {\n",
              "      background-color: #3B4455;\n",
              "      fill: #D2E3FC;\n",
              "    }\n",
              "\n",
              "    [theme=dark] .colab-df-convert:hover {\n",
              "      background-color: #434B5C;\n",
              "      box-shadow: 0px 1px 3px 1px rgba(0, 0, 0, 0.15);\n",
              "      filter: drop-shadow(0px 1px 2px rgba(0, 0, 0, 0.3));\n",
              "      fill: #FFFFFF;\n",
              "    }\n",
              "  </style>\n",
              "\n",
              "      <script>\n",
              "        const buttonEl =\n",
              "          document.querySelector('#df-8a946280-91f3-4505-ab05-af209252d8a4 button.colab-df-convert');\n",
              "        buttonEl.style.display =\n",
              "          google.colab.kernel.accessAllowed ? 'block' : 'none';\n",
              "\n",
              "        async function convertToInteractive(key) {\n",
              "          const element = document.querySelector('#df-8a946280-91f3-4505-ab05-af209252d8a4');\n",
              "          const dataTable =\n",
              "            await google.colab.kernel.invokeFunction('convertToInteractive',\n",
              "                                                     [key], {});\n",
              "          if (!dataTable) return;\n",
              "\n",
              "          const docLinkHtml = 'Like what you see? Visit the ' +\n",
              "            '<a target=\"_blank\" href=https://colab.research.google.com/notebooks/data_table.ipynb>data table notebook</a>'\n",
              "            + ' to learn more about interactive tables.';\n",
              "          element.innerHTML = '';\n",
              "          dataTable['output_type'] = 'display_data';\n",
              "          await google.colab.output.renderOutput(dataTable, element);\n",
              "          const docLink = document.createElement('div');\n",
              "          docLink.innerHTML = docLinkHtml;\n",
              "          element.appendChild(docLink);\n",
              "        }\n",
              "      </script>\n",
              "    </div>\n",
              "  </div>\n",
              "  "
            ]
          },
          "metadata": {},
          "execution_count": 8
        }
      ]
    },
    {
      "cell_type": "code",
      "source": [
        "items_known"
      ],
      "metadata": {
        "id": "X5mtc9kZwxp5",
        "outputId": "3c986ccb-5638-4865-df26-125f5c8f1d67",
        "colab": {
          "base_uri": "https://localhost:8080/"
        }
      },
      "execution_count": null,
      "outputs": [
        {
          "output_type": "execute_result",
          "data": {
            "text/plain": [
              "21048      1\n",
              "6127     218\n",
              "30738    866\n",
              "44080     62\n",
              "18944    140\n",
              "        ... \n",
              "367       96\n",
              "28477    195\n",
              "19163    393\n",
              "39450    496\n",
              "189      673\n",
              "Name: item_id, Length: 216, dtype: int64"
            ]
          },
          "metadata": {},
          "execution_count": 9
        }
      ]
    },
    {
      "cell_type": "code",
      "source": [],
      "metadata": {
        "id": "m2WvUW7Vv1Bc"
      },
      "execution_count": null,
      "outputs": []
    }
  ]
}